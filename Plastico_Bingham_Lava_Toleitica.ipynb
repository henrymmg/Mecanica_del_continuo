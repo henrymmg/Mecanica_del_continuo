{
 "metadata": {
  "name": "",
  "signature": "sha256:7359d5293a85c017c17ff9b63d97590e6500c64017dbbf21dc25c580d5ec7045"
 },
 "nbformat": 3,
 "nbformat_minor": 0,
 "worksheets": [
  {
   "cells": [
    {
     "cell_type": "markdown",
     "metadata": {},
     "source": [
      "Henry Mart\u00ednez G\u00f3mez"
     ]
    },
    {
     "cell_type": "heading",
     "level": 1,
     "metadata": {},
     "source": [
      "Flujo de materiales naturales"
     ]
    },
    {
     "cell_type": "markdown",
     "metadata": {},
     "source": [
      "Un fluido es, en esencia, una sustancia que se deforma continuamente ante un esfuerzo cortante, sin importar la magnitud del mismo, y resulta de gran inter\u00e9s su estudio para las ciencias de la Tierra puesto que en t\u00e9rminos de tiempo geol\u00f3gico, todo fluye.\n",
      "\n",
      "Las ecuaciones constitutivas de un material definen la relaci\u00f3n del tensor de esfuerzos con el de deformaci\u00f3n, y en el caso de fluidos viscosos, con la tasa de deformaci\u00f3n. Tienen la caracter\u00edstica de ser deducidas a partir de an\u00e1lisis experimentales puesto que la complejidad de los materiales no permite generarlas partiendo de las leyes de la f\u00edsica, a nivel general ni fundamental. Esta relaci\u00f3n, determinada por la viscocidad, est\u00e1 definida en gran medida por las propiedades mec\u00e1nicas del material mismo. Con base en esto, la reolog\u00eda ha establecido dos principales grupos de fluidos seg\u00fan sus caracter\u00edstivas viscosas, los fluidos Newtonianos y los no Newtonianos. \n",
      "\n",
      "Los fluidos newtonianos son aquellos que tienen una relaci\u00f3n lineal entre el esfuerzo cortante y el gradiente de deformaci\u00f3n. Esta relaci\u00f3n no es cierta para la mayor\u00eda de fluidos, pero es una muy buena aproximaci\u00f3n que simplifica los c\u00e1lculos y funciona bien para muchos materiales. Sin embargo, el estudio de la Tierra comprende materiales cuya relaci\u00f3n esfuerzo-deformaci\u00f3n es mucho m\u00e1s compleja. Como un inicio para entender el comportamiento de estos materiales, se han desarrollado modelos b\u00e1sicos cuyas combinaciones logran una mejor aproximaci\u00f3n a los fluidos reales: el\u00e1stico, viscoso, pl\u00e1stico.\n",
      "\n",
      "Las principales combinaciones idealizadas son las siguientes:\n",
      "\n",
      "-Pl\u00e1stico ideal. Es un material con un esfuerzo finito y con viscosidad cero.\n",
      "\n",
      "-Pl\u00e1stico de Bingham. Material con esfuerzo y viscosidad finita.\n",
      "\n",
      "-Cuerpo de Maxwell. Material con viscosidad y elasticidad, dispuestos en paralelo.\n",
      "\n",
      "-Cuerpo de Kelvin. Material con viscosidad y elasticidad, dispuestos en serie.\n",
      "\n",
      "-Fluido no Newtoniano: material curya taza de deformaci\u00f3n no es lineal al esfuerzo.\n",
      "\n",
      "Estos modelos se obtuvieron a partir de desarrollos experimentales, porque de la teor\u00eda no se logra llegar a algo muy real. Las ecuaciones no pueden ser deducidas a partir de las leyes de la mec\u00e1nica ni de la f\u00edsica fundamental, se necesita hacer mediciones en laboratorio y campo para hacer relaciones emp\u00edricas. (Middleton, 1999)(White, 2008)\n",
      "\n",
      "Para desarrollar estas ecuaciones se usa el m\u00e9todo Runge-Kutta de cuarto orden. Este m\u00e9todo consiste en la discretizaci\u00f3n de los puntos de la funci\u00f3n para calcular el cambio de una variable respecto a la otra, determinando el valor de la variable deseada a partir del anterior, el paso y la pendiente, extrapolando los valores. La precisi\u00f3n de esta pendiente es la que hace m\u00e1s exacto \u00e9ste entre los m\u00e9todos de aproximaci\u00f3n num\u00e9rica para Ecuaciones Diferenciales Ordinarias. Dicha pendiente se calcula como un promedio ponderado de 4 pendientes diferentes, permitiendo considerar cambios m\u00e1s peque\u00f1os en la funci\u00f3n. (Canale, 2007) \n",
      "\n",
      "\n"
     ]
    },
    {
     "cell_type": "heading",
     "level": 2,
     "metadata": {},
     "source": [
      "Pl\u00e1stico de Bingham"
     ]
    },
    {
     "cell_type": "markdown",
     "metadata": {},
     "source": [
      "Este m\u00e9todo cumple con la siguiente relaci\u00f3n constitutiva: \n",
      "$$\n",
      "\\mu\\frac{d \\epsilon\\ }{dt} + k\\ = \\tau\\\n",
      "$$\n",
      "que relaciona de manera lineal la tasa de deformaci\u00f3n y el esfuerzo cortante una vez superado el esfuerzo cr\u00edtico k, con una proporcionalidad dada por la viscosidad din\u00e1mica.\n",
      "\n",
      "Este modelo es usado con frecuencia para describir lava, lodo y regolito, aunque considerando los efectos de la composici\u00f3n y la temperatura. En 1968 R. shaw, L. Wright, L. Peck y R. Okamura realizaron un estudio para medir la viscosidad en un lago de lava producto de una erupci\u00f3n volc\u00e1nica a\u00f1os atr\u00e1s que llen\u00f3 un cr\u00e1ter en Hawaii. Para ello usaron un visc\u00f3metro rotacional que les permiti\u00f3 tomar las mediciones necesarias para llegar a un modelo de pl\u00e1stico de Bingham que describe este fluido. La viscosidad de la lava tole\u00edtica, de composici\u00f3n intermedia, mostr\u00f3 tener una gran dependencia con la temperatura, as\u00ed como de la composici\u00f3n y proporci\u00f3n entre las fases cristalina, fundida y gaseosa. El experimento incorpor\u00f3 mediciones de laboratorio que complementaron las de campo, logrando as\u00ed establecer que las burbujas en suspensi\u00f3n favorecen el comportamiento pl\u00e1stico, mientras que la fase l\u00edquida y los cristales en suspensi\u00f3n aportan a la componente Newtoniana del fluido. Los datos obtenidos a partir de las mediciones en la lava permitieron establecer valores distintos del modelo de Bingham para cada altura estudiada. (Shaw, 1968)"
     ]
    },
    {
     "cell_type": "code",
     "collapsed": false,
     "input": [
      "#Carga de librerias\n",
      "%pylab inline "
     ],
     "language": "python",
     "metadata": {},
     "outputs": [
      {
       "output_type": "stream",
       "stream": "stdout",
       "text": [
        "Populating the interactive namespace from numpy and matplotlib\n"
       ]
      }
     ],
     "prompt_number": 103
    },
    {
     "cell_type": "code",
     "collapsed": false,
     "input": [
      "#Definici\u00f3n de variables\n",
      "\n",
      "h=1 #tama\u00f1o del paso\n",
      "min_epsilon = 0.0 #Rango de la deformaci\u00f3n\n",
      "max_epsilon = 4000.0\n",
      "n_puntos = int((max_epsilon - min_epsilon)/h) #N\u00famero de puntos\n",
      "epsilon1 = zeros(n_puntos) #Variables de deformaci\u00f3n y esfuerzo para el primer experimento\n",
      "tao1 = zeros(n_puntos)\n",
      "epsilon2 = zeros(n_puntos) #Variables de deformaci\u00f3n y esfuerzo para el segundo experimento\n",
      "tao2 = zeros(n_puntos)"
     ],
     "language": "python",
     "metadata": {},
     "outputs": [],
     "prompt_number": 104
    },
    {
     "cell_type": "code",
     "collapsed": false,
     "input": [
      "#Ecuaciones constitutivas para la tasa de deformaci\u00f3n\n",
      "def epsilon1_prima(epsilon1,tao1,K1,miu1):\n",
      "    return (tao1-k1)/miu1\n",
      "\n",
      "def epsilon2_prima(epsilon2,tao2,K2,miu2):\n",
      "    return (tao2-k2)/miu2"
     ],
     "language": "python",
     "metadata": {},
     "outputs": [],
     "prompt_number": 105
    },
    {
     "cell_type": "code",
     "collapsed": false,
     "input": [
      "#Runge-Kutta de cuarto orden\n",
      "\n",
      "#Condiciones iniciales\n",
      "epsilon1[0] = 0\n",
      "epsilon2[0] = 0\n",
      "K1 = 1200\n",
      "K2 = 700\n",
      "miu1 = 6500\n",
      "miu2 = 7500\n",
      "tao1[0] = K1\n",
      "tao2[0] = K2\n",
      "\n",
      "for i in range(1,n_puntos):\n",
      "  \n",
      "    k1_1 = epsilon1_prima(epsilon1[i-1],tao1[i-1],K1,miu1)\n",
      "    k1_2 = epsilon2_prima(epsilon2[i-1],tao2[i-1],K2,miu2)\n",
      "    \n",
      "    #Primer paso\n",
      "    epsilon_1_1 = epsilon1[i-1] + (h/2.0)\n",
      "    epsilon_1_2 = epsilon2[i-1] + (h/2.0)\n",
      "    tao_1_1 = tao1[i-1] + (h/2.0) * k1_1\n",
      "    tao_1_2 = tao2[i-1] + (h/2.0) * k1_2\n",
      "    k2_1 = epsilon1_prima(epsilon_1_1, tao_1_1,K1,miu1)\n",
      "    k2_2 = epsilon2_prima(epsilon_1_2, tao_1_2,K2,miu2)\n",
      "    \n",
      "    #Segundo paso\n",
      "    epsilon_2_1 = epsilon1[i-1] + (h/2.0)\n",
      "    epsilon_2_2 = epsilon2[i-1] + (h/2.0)\n",
      "    tao_2_1 = tao1[i-1] + (h/2.0) * k2_1\n",
      "    tao_2_2 = tao2[i-1] + (h/2.0) * k2_2\n",
      "    k3_1 = epsilon1_prima(epsilon_2_1, tao_2_1,K1,miu1)\n",
      "    k3_2 = epsilon2_prima(epsilon_2_2, tao_2_2,K2,miu2)\n",
      "        \n",
      "    #Tercer paso\n",
      "    epsilon_3_1 = epsilon1[i-1] + h\n",
      "    epsilon_3_2 = epsilon2[i-1] + h\n",
      "    tao_3_1 = tao1[i-1] + h * k3_1\n",
      "    tao_3_2 = tao2[i-1] + h * k3_2\n",
      "    k4_1 = epsilon1_prima(epsilon_3_1, tao_3_1,K1,miu1)\n",
      "    k4_2 = epsilon2_prima(epsilon_3_2, tao_3_2,K2,miu2)\n",
      "    \n",
      "    #Cuarto paso\n",
      "    average_k_1 = (1.0/6.0)*(k1_1 + 2.0*k2_1 + 2.0*k3_1 + k4_1)\n",
      "    average_k_2 = (1.0/6.0)*(k1_2 + 2.0*k2_2 + 2.0*k3_2 + k4_2)\n",
      "    \n",
      "    epsilon1[i] = epsilon1[i-1] + h\n",
      "    epsilon2[i] = epsilon2[i-1] + h\n",
      "    tao1[i] = tao1[i-1] + h * average_k_1\n",
      "    tao2[i] = tao2[i-1] + h * average_k_2\n",
      "\n",
      "plot(epsilon1,tao1)\n",
      "plot(epsilon2,tao2)\n",
      "xlabel('deformacion')\n",
      "ylabel('esfuerzo cortante')\n",
      "title('Diagrama esfuerzo-deformacion')\n",
      "axis([0,100,0,1600])\n",
      "show()"
     ],
     "language": "python",
     "metadata": {},
     "outputs": [
      {
       "metadata": {},
       "output_type": "display_data",
       "png": "[encoded data removed]",
       "text": [
        "<matplotlib.figure.Figure at 0x5d63850>"
       ]
      }
     ],
     "prompt_number": 106
    },
    {
     "cell_type": "markdown",
     "metadata": {},
     "source": [
      "Se observa que para ambos casos, siendo el azul el primer experimento (T=1132\u00b0C) y el verde el segundo (T=1133\u00b0C), se cumple que la deformaci\u00f3n aumenta mostrando un comportamiento pl\u00e1stico una vez se supera el esfuerzo cr\u00edtico."
     ]
    },
    {
     "cell_type": "code",
     "collapsed": false,
     "input": [
      "tao_prueba=linspace(0,15000,1000)\n",
      "de1=(tao_prueba-K1)/miu1\n",
      "de2=(tao_prueba-K2)/miu2\n",
      "plot(de1,tao_prueba)\n",
      "plot(de2,tao_prueba)\n",
      "axis([0,1,0,10000])\n",
      "xlabel('tasa de deformacion')\n",
      "ylabel('esfuerzo cortante')\n",
      "title('Lava toleitica')\n",
      "show()"
     ],
     "language": "python",
     "metadata": {},
     "outputs": [
      {
       "metadata": {},
       "output_type": "display_data",
       "png": "[encoded data removed]",
       "text": [
        "<matplotlib.figure.Figure at 0x5168c50>"
       ]
      }
     ],
     "prompt_number": 107
    },
    {
     "cell_type": "markdown",
     "metadata": {},
     "source": [
      "Se observa que ambos experimentos tuvieron como resultado un modelo lineal entre esfuerzo y tasa de deformaci\u00f3n, teniendo pendientes significativamente distintas para una variaci\u00f3n de 1\u00b0C en la temperatura.\n",
      "Esto refleja la importancia de la temperatura y la composici\u00f3n en el comportamiento mec\u00e1nico de la lava, por lo que no puede tratarse simplemente como un fluido Newtoniano. El modelo de Bongham se adapta a las mediciones, sin embargo daben considerarse, para describir la lava de manera general, la viscosidad din\u00e1mica y el esfuerzo cr\u00edtico como funciones de la temperatura y la composici\u00f3n. "
     ]
    },
    {
     "cell_type": "heading",
     "level": 1,
     "metadata": {},
     "source": [
      "Referencias"
     ]
    },
    {
     "cell_type": "markdown",
     "metadata": {},
     "source": [
      "Canale, C., 2007. M\u00e9todos de Runge-Kutta. En: M\u00e9todos Num\u00e9ricos para Ingenieros. Ciudad de M\u00e9xico: s.n., pp. 719-761.\n",
      "\n",
      "Middleton, G. W. P., 1999. Viscous fluids. En: Mechanics in the Earth and Environmental Sciences. s.l.:Cambridge University Press, pp. 255-344.\n",
      "\n",
      "Shaw, et al., 1968. The Viscosity of Basaltic Magma: An Analysis of Field Measurements in Makaopuhi Lava Lake, Hawaii. American Journal of Science, Volumen 266, pp. 225-264.\n",
      "\n",
      "White, F., 2008. Introduction. En: Fluid Mechanics . Madrid: Mc Graw Hill, pp. 25-32.\n",
      "\n"
     ]
    }
   ],
   "metadata": {}
  }
 ]
}